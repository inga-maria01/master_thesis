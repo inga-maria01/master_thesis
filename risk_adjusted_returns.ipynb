{
 "cells": [
  {
   "cell_type": "markdown",
   "metadata": {},
   "source": [
    "Want to calculate the risk adjusted returns for the NASDAQ100 stock over the period we are looking at.\n",
    "Risk-adjusted returns are a way to assess an investment's performance relative to its risk. One of the most common measures for risk-adjusted returns is the Sharpe ratio.\n",
    "\n",
    "Formula:\n",
    "$$\\text{Sharpe ratio} = \\frac{\\text{Risk premium}}{\\text{SD of excess return}}$$\n",
    "that is:\n",
    "𝑆ℎ𝑎𝑟𝑝𝑒 𝑟𝑎𝑡𝑖𝑜=(𝐸(𝑟_𝐸𝐷 )−𝑟_𝑓)/𝜎_𝐸𝐷 \n",
    "\n",
    "Sharpe Ratio = (Average Return of Investment - Risk-Free Rate) / Standard Deviation of Investment\n",
    "\n",
    "First we need the average return, since we want to calculate this daily we can just use the daily return instead of average.\n",
    "Calculate it using: Daily Return = (Price at Day N - Price at Day N-1) / Price at Day N-1\n",
    "(so not log return?)"
   ]
  },
  {
   "cell_type": "code",
   "execution_count": 112,
   "metadata": {},
   "outputs": [],
   "source": [
    "import pandas as pd\n",
    "import numpy as np\n",
    "import matplotlib.pyplot as plt"
   ]
  },
  {
   "cell_type": "code",
   "execution_count": 113,
   "metadata": {},
   "outputs": [
    {
     "data": {
      "text/html": [
       "<div>\n",
       "<style scoped>\n",
       "    .dataframe tbody tr th:only-of-type {\n",
       "        vertical-align: middle;\n",
       "    }\n",
       "\n",
       "    .dataframe tbody tr th {\n",
       "        vertical-align: top;\n",
       "    }\n",
       "\n",
       "    .dataframe thead th {\n",
       "        text-align: right;\n",
       "    }\n",
       "</style>\n",
       "<table border=\"1\" class=\"dataframe\">\n",
       "  <thead>\n",
       "    <tr style=\"text-align: right;\">\n",
       "      <th></th>\n",
       "      <th>Date</th>\n",
       "      <th>Open</th>\n",
       "      <th>High</th>\n",
       "      <th>Low</th>\n",
       "      <th>Close</th>\n",
       "      <th>Adj Close</th>\n",
       "      <th>Volume</th>\n",
       "    </tr>\n",
       "  </thead>\n",
       "  <tbody>\n",
       "    <tr>\n",
       "      <th>0</th>\n",
       "      <td>2014-12-31</td>\n",
       "      <td>4294.879883</td>\n",
       "      <td>4307.009766</td>\n",
       "      <td>4233.709961</td>\n",
       "      <td>4236.279785</td>\n",
       "      <td>4236.279785</td>\n",
       "      <td>1515600000</td>\n",
       "    </tr>\n",
       "    <tr>\n",
       "      <th>1</th>\n",
       "      <td>2015-01-02</td>\n",
       "      <td>4258.600098</td>\n",
       "      <td>4276.709961</td>\n",
       "      <td>4206.459961</td>\n",
       "      <td>4230.240234</td>\n",
       "      <td>4230.240234</td>\n",
       "      <td>1435150000</td>\n",
       "    </tr>\n",
       "    <tr>\n",
       "      <th>2</th>\n",
       "      <td>2015-01-05</td>\n",
       "      <td>4206.549805</td>\n",
       "      <td>4210.959961</td>\n",
       "      <td>4151.850098</td>\n",
       "      <td>4160.959961</td>\n",
       "      <td>4160.959961</td>\n",
       "      <td>1794470000</td>\n",
       "    </tr>\n",
       "    <tr>\n",
       "      <th>3</th>\n",
       "      <td>2015-01-06</td>\n",
       "      <td>4174.779785</td>\n",
       "      <td>4176.259766</td>\n",
       "      <td>4090.330078</td>\n",
       "      <td>4110.830078</td>\n",
       "      <td>4110.830078</td>\n",
       "      <td>2167320000</td>\n",
       "    </tr>\n",
       "    <tr>\n",
       "      <th>4</th>\n",
       "      <td>2015-01-07</td>\n",
       "      <td>4139.850098</td>\n",
       "      <td>4169.970215</td>\n",
       "      <td>4126.390137</td>\n",
       "      <td>4160.000000</td>\n",
       "      <td>4160.000000</td>\n",
       "      <td>1957950000</td>\n",
       "    </tr>\n",
       "  </tbody>\n",
       "</table>\n",
       "</div>"
      ],
      "text/plain": [
       "        Date         Open         High          Low        Close    Adj Close  \\\n",
       "0 2014-12-31  4294.879883  4307.009766  4233.709961  4236.279785  4236.279785   \n",
       "1 2015-01-02  4258.600098  4276.709961  4206.459961  4230.240234  4230.240234   \n",
       "2 2015-01-05  4206.549805  4210.959961  4151.850098  4160.959961  4160.959961   \n",
       "3 2015-01-06  4174.779785  4176.259766  4090.330078  4110.830078  4110.830078   \n",
       "4 2015-01-07  4139.850098  4169.970215  4126.390137  4160.000000  4160.000000   \n",
       "\n",
       "       Volume  \n",
       "0  1515600000  \n",
       "1  1435150000  \n",
       "2  1794470000  \n",
       "3  2167320000  \n",
       "4  1957950000  "
      ]
     },
     "execution_count": 113,
     "metadata": {},
     "output_type": "execute_result"
    }
   ],
   "source": [
    "# first we need the historical data: \n",
    "url_nasdaq_price = 'https://raw.githubusercontent.com/inga-maria01/master_thesis/main/data/Nasdaq100_price_data.csv'\n",
    "price_df = pd.read_csv(url_nasdaq_price)\n",
    "price_df['Date'] = pd.to_datetime(price_df['Date'])\n",
    "price_df.head()\n",
    "#this dataset includes the prices and the volume!\n",
    "# we now need to calculate the returns, do this by taking the logarithm and first difference of the closing price.\n"
   ]
  },
  {
   "cell_type": "code",
   "execution_count": 114,
   "metadata": {},
   "outputs": [
    {
     "data": {
      "text/html": [
       "<div>\n",
       "<style scoped>\n",
       "    .dataframe tbody tr th:only-of-type {\n",
       "        vertical-align: middle;\n",
       "    }\n",
       "\n",
       "    .dataframe tbody tr th {\n",
       "        vertical-align: top;\n",
       "    }\n",
       "\n",
       "    .dataframe thead th {\n",
       "        text-align: right;\n",
       "    }\n",
       "</style>\n",
       "<table border=\"1\" class=\"dataframe\">\n",
       "  <thead>\n",
       "    <tr style=\"text-align: right;\">\n",
       "      <th></th>\n",
       "      <th>Date</th>\n",
       "      <th>Open</th>\n",
       "      <th>High</th>\n",
       "      <th>Low</th>\n",
       "      <th>Close</th>\n",
       "      <th>Adj Close</th>\n",
       "      <th>Volume</th>\n",
       "      <th>r_ndq</th>\n",
       "    </tr>\n",
       "  </thead>\n",
       "  <tbody>\n",
       "    <tr>\n",
       "      <th>1</th>\n",
       "      <td>2015-01-02</td>\n",
       "      <td>4258.600098</td>\n",
       "      <td>4276.709961</td>\n",
       "      <td>4206.459961</td>\n",
       "      <td>4230.240234</td>\n",
       "      <td>4230.240234</td>\n",
       "      <td>1435150000</td>\n",
       "      <td>-0.142669</td>\n",
       "    </tr>\n",
       "    <tr>\n",
       "      <th>2</th>\n",
       "      <td>2015-01-05</td>\n",
       "      <td>4206.549805</td>\n",
       "      <td>4210.959961</td>\n",
       "      <td>4151.850098</td>\n",
       "      <td>4160.959961</td>\n",
       "      <td>4160.959961</td>\n",
       "      <td>1794470000</td>\n",
       "      <td>-1.651298</td>\n",
       "    </tr>\n",
       "    <tr>\n",
       "      <th>3</th>\n",
       "      <td>2015-01-06</td>\n",
       "      <td>4174.779785</td>\n",
       "      <td>4176.259766</td>\n",
       "      <td>4090.330078</td>\n",
       "      <td>4110.830078</td>\n",
       "      <td>4110.830078</td>\n",
       "      <td>2167320000</td>\n",
       "      <td>-1.212083</td>\n",
       "    </tr>\n",
       "    <tr>\n",
       "      <th>4</th>\n",
       "      <td>2015-01-07</td>\n",
       "      <td>4139.850098</td>\n",
       "      <td>4169.970215</td>\n",
       "      <td>4126.390137</td>\n",
       "      <td>4160.000000</td>\n",
       "      <td>4160.000000</td>\n",
       "      <td>1957950000</td>\n",
       "      <td>1.189010</td>\n",
       "    </tr>\n",
       "    <tr>\n",
       "      <th>5</th>\n",
       "      <td>2015-01-08</td>\n",
       "      <td>4195.490234</td>\n",
       "      <td>4247.930176</td>\n",
       "      <td>4192.629883</td>\n",
       "      <td>4240.549805</td>\n",
       "      <td>4240.549805</td>\n",
       "      <td>2105450000</td>\n",
       "      <td>1.917786</td>\n",
       "    </tr>\n",
       "  </tbody>\n",
       "</table>\n",
       "</div>"
      ],
      "text/plain": [
       "        Date         Open         High          Low        Close    Adj Close  \\\n",
       "1 2015-01-02  4258.600098  4276.709961  4206.459961  4230.240234  4230.240234   \n",
       "2 2015-01-05  4206.549805  4210.959961  4151.850098  4160.959961  4160.959961   \n",
       "3 2015-01-06  4174.779785  4176.259766  4090.330078  4110.830078  4110.830078   \n",
       "4 2015-01-07  4139.850098  4169.970215  4126.390137  4160.000000  4160.000000   \n",
       "5 2015-01-08  4195.490234  4247.930176  4192.629883  4240.549805  4240.549805   \n",
       "\n",
       "       Volume     r_ndq  \n",
       "1  1435150000 -0.142669  \n",
       "2  1794470000 -1.651298  \n",
       "3  2167320000 -1.212083  \n",
       "4  1957950000  1.189010  \n",
       "5  2105450000  1.917786  "
      ]
     },
     "execution_count": 114,
     "metadata": {},
     "output_type": "execute_result"
    }
   ],
   "source": [
    "price_df['r_ndq'] = np.log(price_df['Close']).diff()*100 #have in percentages\n",
    "price_df.dropna(inplace=True)\n",
    "price_df.head()"
   ]
  },
  {
   "cell_type": "markdown",
   "metadata": {},
   "source": [
    "Portfolio: use model to rebalance every day, and then calculate monthly sharpe ratio to compare the two portfolios (ours and the benchmark)\n",
    "\n",
    "Steps we need:\n",
    "- Add risk free returns to the data\n",
    "- Calculate the returns for the benchmark portfolio\n",
    "    - To do that: w_rf = 0.4, w_s = 0.6, r_bm = w_rf*r_rf + w_s *r_s\n",
    "    - calculate them daily and then calculate monthly sharpe ratio:\n",
    "        - to do that: Get monthly standard deviation -> based on date column \n",
    "        - get average monthly return for both the portfolio and just the risk free\n",
    "        - calculate risk premium (r_bm - r_rf)\n",
    "        - calculate sharpe ratio: risk premium / std_bm\n",
    "\n",
    "**1. Get rf data:**\n",
    "\n",
    "- 1. Load the data\n",
    "- 2. Calculate daily returns\n",
    "- 3. Add to dataframe (or make new dataframe with just the relevant info)\n"
   ]
  },
  {
   "cell_type": "markdown",
   "metadata": {},
   "source": [
    "Here I download data from https://www.investing.com/rates-bonds/us-10-yr-t-note-historical-data\n",
    "that is, it's data about the price of a future of the 10 year US treasury note I think."
   ]
  },
  {
   "cell_type": "code",
   "execution_count": 115,
   "metadata": {},
   "outputs": [],
   "source": [
    "rf_df = pd.read_csv('https://raw.githubusercontent.com/inga-maria01/master_thesis/main/data/US%2010%20Year%20T-Note%20Futures%20Historical%20Data.csv')"
   ]
  },
  {
   "cell_type": "code",
   "execution_count": 116,
   "metadata": {},
   "outputs": [],
   "source": [
    "rf_df['r_rf'] = np.log(rf_df['Price']).diff()*100\n",
    "rf_df.dropna(inplace=True)"
   ]
  },
  {
   "cell_type": "code",
   "execution_count": 117,
   "metadata": {},
   "outputs": [
    {
     "data": {
      "text/html": [
       "<div>\n",
       "<style scoped>\n",
       "    .dataframe tbody tr th:only-of-type {\n",
       "        vertical-align: middle;\n",
       "    }\n",
       "\n",
       "    .dataframe tbody tr th {\n",
       "        vertical-align: top;\n",
       "    }\n",
       "\n",
       "    .dataframe thead th {\n",
       "        text-align: right;\n",
       "    }\n",
       "</style>\n",
       "<table border=\"1\" class=\"dataframe\">\n",
       "  <thead>\n",
       "    <tr style=\"text-align: right;\">\n",
       "      <th></th>\n",
       "      <th>Date</th>\n",
       "      <th>Price</th>\n",
       "      <th>Open</th>\n",
       "      <th>High</th>\n",
       "      <th>Low</th>\n",
       "      <th>Vol.</th>\n",
       "      <th>Change %</th>\n",
       "      <th>r_rf</th>\n",
       "    </tr>\n",
       "  </thead>\n",
       "  <tbody>\n",
       "    <tr>\n",
       "      <th>1</th>\n",
       "      <td>12/30/2019</td>\n",
       "      <td>128.53</td>\n",
       "      <td>128.61</td>\n",
       "      <td>128.69</td>\n",
       "      <td>128.16</td>\n",
       "      <td>891.50K</td>\n",
       "      <td>-0.10%</td>\n",
       "      <td>0.085620</td>\n",
       "    </tr>\n",
       "    <tr>\n",
       "      <th>2</th>\n",
       "      <td>12/27/2019</td>\n",
       "      <td>128.66</td>\n",
       "      <td>128.41</td>\n",
       "      <td>128.67</td>\n",
       "      <td>128.39</td>\n",
       "      <td>667.29K</td>\n",
       "      <td>0.22%</td>\n",
       "      <td>0.101093</td>\n",
       "    </tr>\n",
       "    <tr>\n",
       "      <th>3</th>\n",
       "      <td>12/26/2019</td>\n",
       "      <td>128.38</td>\n",
       "      <td>128.36</td>\n",
       "      <td>128.47</td>\n",
       "      <td>128.20</td>\n",
       "      <td>402.21K</td>\n",
       "      <td>0.02%</td>\n",
       "      <td>-0.217865</td>\n",
       "    </tr>\n",
       "    <tr>\n",
       "      <th>5</th>\n",
       "      <td>12/24/2019</td>\n",
       "      <td>128.31</td>\n",
       "      <td>128.14</td>\n",
       "      <td>128.39</td>\n",
       "      <td>128.00</td>\n",
       "      <td>398.67K</td>\n",
       "      <td>0.17%</td>\n",
       "      <td>-0.031170</td>\n",
       "    </tr>\n",
       "    <tr>\n",
       "      <th>6</th>\n",
       "      <td>12/23/2019</td>\n",
       "      <td>128.09</td>\n",
       "      <td>128.22</td>\n",
       "      <td>128.39</td>\n",
       "      <td>128.05</td>\n",
       "      <td>620.13K</td>\n",
       "      <td>-0.12%</td>\n",
       "      <td>-0.171607</td>\n",
       "    </tr>\n",
       "  </tbody>\n",
       "</table>\n",
       "</div>"
      ],
      "text/plain": [
       "         Date   Price    Open    High     Low     Vol. Change %      r_rf\n",
       "1  12/30/2019  128.53  128.61  128.69  128.16  891.50K   -0.10%  0.085620\n",
       "2  12/27/2019  128.66  128.41  128.67  128.39  667.29K    0.22%  0.101093\n",
       "3  12/26/2019  128.38  128.36  128.47  128.20  402.21K    0.02% -0.217865\n",
       "5  12/24/2019  128.31  128.14  128.39  128.00  398.67K    0.17% -0.031170\n",
       "6  12/23/2019  128.09  128.22  128.39  128.05  620.13K   -0.12% -0.171607"
      ]
     },
     "execution_count": 117,
     "metadata": {},
     "output_type": "execute_result"
    }
   ],
   "source": [
    "rf_df.head()"
   ]
  },
  {
   "cell_type": "markdown",
   "metadata": {},
   "source": [
    "not sure what change % is..."
   ]
  },
  {
   "cell_type": "code",
   "execution_count": 118,
   "metadata": {},
   "outputs": [],
   "source": [
    "rf_df['Date'] = pd.to_datetime(rf_df['Date'])"
   ]
  },
  {
   "cell_type": "markdown",
   "metadata": {},
   "source": [
    "**2. Calculate daily 60/40 portfolio returns**\n",
    "- Use w_rf*r_rf + w_nq+r_nq"
   ]
  },
  {
   "cell_type": "code",
   "execution_count": 119,
   "metadata": {},
   "outputs": [
    {
     "data": {
      "text/html": [
       "<div>\n",
       "<style scoped>\n",
       "    .dataframe tbody tr th:only-of-type {\n",
       "        vertical-align: middle;\n",
       "    }\n",
       "\n",
       "    .dataframe tbody tr th {\n",
       "        vertical-align: top;\n",
       "    }\n",
       "\n",
       "    .dataframe thead th {\n",
       "        text-align: right;\n",
       "    }\n",
       "</style>\n",
       "<table border=\"1\" class=\"dataframe\">\n",
       "  <thead>\n",
       "    <tr style=\"text-align: right;\">\n",
       "      <th></th>\n",
       "      <th>Date</th>\n",
       "      <th>r_ndq</th>\n",
       "      <th>r_rf</th>\n",
       "    </tr>\n",
       "  </thead>\n",
       "  <tbody>\n",
       "    <tr>\n",
       "      <th>0</th>\n",
       "      <td>2015-01-02</td>\n",
       "      <td>-0.142669</td>\n",
       "      <td>-0.478564</td>\n",
       "    </tr>\n",
       "    <tr>\n",
       "      <th>1</th>\n",
       "      <td>2015-01-05</td>\n",
       "      <td>-1.651298</td>\n",
       "      <td>-0.460704</td>\n",
       "    </tr>\n",
       "    <tr>\n",
       "      <th>2</th>\n",
       "      <td>2015-01-06</td>\n",
       "      <td>-1.212083</td>\n",
       "      <td>-0.085660</td>\n",
       "    </tr>\n",
       "    <tr>\n",
       "      <th>3</th>\n",
       "      <td>2015-01-07</td>\n",
       "      <td>1.189010</td>\n",
       "      <td>0.280614</td>\n",
       "    </tr>\n",
       "    <tr>\n",
       "      <th>4</th>\n",
       "      <td>2015-01-08</td>\n",
       "      <td>1.917786</td>\n",
       "      <td>-0.366201</td>\n",
       "    </tr>\n",
       "  </tbody>\n",
       "</table>\n",
       "</div>"
      ],
      "text/plain": [
       "        Date     r_ndq      r_rf\n",
       "0 2015-01-02 -0.142669 -0.478564\n",
       "1 2015-01-05 -1.651298 -0.460704\n",
       "2 2015-01-06 -1.212083 -0.085660\n",
       "3 2015-01-07  1.189010  0.280614\n",
       "4 2015-01-08  1.917786 -0.366201"
      ]
     },
     "execution_count": 119,
     "metadata": {},
     "output_type": "execute_result"
    }
   ],
   "source": [
    "benchmark6040_df = pd.merge(price_df[['Date', 'r_ndq']], \n",
    "                     rf_df[['Date', 'r_rf']], \n",
    "                     on='Date', \n",
    "                     how='inner')\n",
    "\n",
    "benchmark6040_df.head()"
   ]
  },
  {
   "cell_type": "code",
   "execution_count": 120,
   "metadata": {},
   "outputs": [],
   "source": [
    "w_rf = 0.4\n",
    "w_ndq = 0.6"
   ]
  },
  {
   "cell_type": "code",
   "execution_count": 121,
   "metadata": {},
   "outputs": [],
   "source": [
    "benchmark6040_df['r_bm'] = w_rf*benchmark6040_df['r_rf'] + w_ndq*benchmark6040_df['r_ndq']"
   ]
  },
  {
   "cell_type": "code",
   "execution_count": 122,
   "metadata": {},
   "outputs": [
    {
     "data": {
      "text/html": [
       "<div>\n",
       "<style scoped>\n",
       "    .dataframe tbody tr th:only-of-type {\n",
       "        vertical-align: middle;\n",
       "    }\n",
       "\n",
       "    .dataframe tbody tr th {\n",
       "        vertical-align: top;\n",
       "    }\n",
       "\n",
       "    .dataframe thead th {\n",
       "        text-align: right;\n",
       "    }\n",
       "</style>\n",
       "<table border=\"1\" class=\"dataframe\">\n",
       "  <thead>\n",
       "    <tr style=\"text-align: right;\">\n",
       "      <th></th>\n",
       "      <th>Date</th>\n",
       "      <th>r_ndq</th>\n",
       "      <th>r_rf</th>\n",
       "      <th>r_bm</th>\n",
       "    </tr>\n",
       "  </thead>\n",
       "  <tbody>\n",
       "    <tr>\n",
       "      <th>0</th>\n",
       "      <td>2015-01-02</td>\n",
       "      <td>-0.142669</td>\n",
       "      <td>-0.478564</td>\n",
       "      <td>-0.277027</td>\n",
       "    </tr>\n",
       "    <tr>\n",
       "      <th>1</th>\n",
       "      <td>2015-01-05</td>\n",
       "      <td>-1.651298</td>\n",
       "      <td>-0.460704</td>\n",
       "      <td>-1.175060</td>\n",
       "    </tr>\n",
       "    <tr>\n",
       "      <th>2</th>\n",
       "      <td>2015-01-06</td>\n",
       "      <td>-1.212083</td>\n",
       "      <td>-0.085660</td>\n",
       "      <td>-0.761514</td>\n",
       "    </tr>\n",
       "    <tr>\n",
       "      <th>3</th>\n",
       "      <td>2015-01-07</td>\n",
       "      <td>1.189010</td>\n",
       "      <td>0.280614</td>\n",
       "      <td>0.825652</td>\n",
       "    </tr>\n",
       "    <tr>\n",
       "      <th>4</th>\n",
       "      <td>2015-01-08</td>\n",
       "      <td>1.917786</td>\n",
       "      <td>-0.366201</td>\n",
       "      <td>1.004191</td>\n",
       "    </tr>\n",
       "  </tbody>\n",
       "</table>\n",
       "</div>"
      ],
      "text/plain": [
       "        Date     r_ndq      r_rf      r_bm\n",
       "0 2015-01-02 -0.142669 -0.478564 -0.277027\n",
       "1 2015-01-05 -1.651298 -0.460704 -1.175060\n",
       "2 2015-01-06 -1.212083 -0.085660 -0.761514\n",
       "3 2015-01-07  1.189010  0.280614  0.825652\n",
       "4 2015-01-08  1.917786 -0.366201  1.004191"
      ]
     },
     "execution_count": 122,
     "metadata": {},
     "output_type": "execute_result"
    }
   ],
   "source": [
    "benchmark6040_df.head()"
   ]
  },
  {
   "cell_type": "code",
   "execution_count": 123,
   "metadata": {},
   "outputs": [
    {
     "data": {
      "text/plain": [
       "[<matplotlib.lines.Line2D at 0x16e3fd3c760>]"
      ]
     },
     "execution_count": 123,
     "metadata": {},
     "output_type": "execute_result"
    },
    {
     "data": {
      "image/png": "[encoded data removed]",
      "text/plain": [
       "<Figure size 640x480 with 1 Axes>"
      ]
     },
     "metadata": {},
     "output_type": "display_data"
    }
   ],
   "source": [
    "plt.plot(benchmark6040_df['Date'], benchmark6040_df['r_bm'])"
   ]
  },
  {
   "cell_type": "code",
   "execution_count": 139,
   "metadata": {},
   "outputs": [
    {
     "data": {
      "text/plain": [
       "<matplotlib.legend.Legend at 0x16e437e9250>"
      ]
     },
     "execution_count": 139,
     "metadata": {},
     "output_type": "execute_result"
    },
    {
     "data": {
      "image/png": "[encoded data removed]",
      "text/plain": [
       "<Figure size 640x480 with 1 Axes>"
      ]
     },
     "metadata": {},
     "output_type": "display_data"
    }
   ],
   "source": [
    "values_bm = benchmark6040_df['r_bm'].cumsum()\n",
    "values_ndq = benchmark6040_df['r_ndq'].cumsum()\n",
    "values_rf = benchmark6040_df['r_rf'].cumsum()\n",
    "\n",
    "plt.plot(benchmark6040_df['Date'], values_bm, label='Bench mark')\n",
    "plt.plot(benchmark6040_df['Date'], values_ndq, label='NASDAQ100')\n",
    "plt.plot(benchmark6040_df['Date'], values_rf, label = '10 year treasury note')\n",
    "plt.legend()"
   ]
  },
  {
   "cell_type": "code",
   "execution_count": 152,
   "metadata": {},
   "outputs": [
    {
     "data": {
      "text/plain": [
       "110.51709180756477"
      ]
     },
     "execution_count": 152,
     "metadata": {},
     "output_type": "execute_result"
    }
   ],
   "source": [
    "100*np.exp(-0.14)*np.exp(-1.65)*np.exp(-1.21)*np.exp(1.19)*np.exp(1.91)"
   ]
  },
  {
   "cell_type": "code",
   "execution_count": 160,
   "metadata": {},
   "outputs": [
    {
     "name": "stdout",
     "output_type": "stream",
     "text": [
      "Final value of portfolio:  155.0540086415138\n"
     ]
    },
    {
     "data": {
      "text/plain": [
       "<matplotlib.legend.Legend at 0x16e46369fd0>"
      ]
     },
     "execution_count": 160,
     "metadata": {},
     "output_type": "execute_result"
    },
    {
     "data": {
      "image/png": "[encoded data removed]",
      "text/plain": [
       "<Figure size 640x480 with 1 Axes>"
      ]
     },
     "metadata": {},
     "output_type": "display_data"
    }
   ],
   "source": [
    "P = 60\n",
    "history_ndq = [P]\n",
    "for i in range(len(values_bm)):\n",
    "    P = P*np.exp(benchmark6040_df['r_ndq'][i]/100)\n",
    "    history_ndq.append(P)\n",
    "    \n",
    "\n",
    "P = 40\n",
    "history_rf = [P]\n",
    "for i in range(len(values_bm)):\n",
    "    P = P*np.exp(benchmark6040_df['r_rf'][i]/100)\n",
    "    history_rf.append(P)\n",
    "\n",
    "\n",
    "P = 100\n",
    "history_bm = [P]\n",
    "for i in range(len(values_bm)):\n",
    "    P = P*np.exp(benchmark6040_df['r_bm'][i]/100)\n",
    "    history_bm.append(P)\n",
    "\n",
    "print('Final value of portfolio: ', P)\n",
    "\n",
    "plt.plot(benchmark6040_df['Date'], history_bm[1:], label='Portfolio')\n",
    "plt.plot(benchmark6040_df['Date'], history_ndq[1:], label='NASDAQ100')\n",
    "plt.plot(benchmark6040_df['Date'], history_rf[1:], label = '10 year treasury note')\n",
    "plt.legend()"
   ]
  },
  {
   "cell_type": "code",
   "execution_count": 65,
   "metadata": {},
   "outputs": [
    {
     "data": {
      "text/plain": [
       "43.86033130875216"
      ]
     },
     "execution_count": 65,
     "metadata": {},
     "output_type": "execute_result"
    }
   ],
   "source": [
    "benchmark6040_df['r_bm'].sum()"
   ]
  },
  {
   "cell_type": "code",
   "execution_count": 66,
   "metadata": {},
   "outputs": [
    {
     "data": {
      "text/plain": [
       "72.07553704828662"
      ]
     },
     "execution_count": 66,
     "metadata": {},
     "output_type": "execute_result"
    }
   ],
   "source": [
    "benchmark6040_df['r_ndq'].sum()"
   ]
  },
  {
   "cell_type": "code",
   "execution_count": 67,
   "metadata": {},
   "outputs": [
    {
     "data": {
      "text/plain": [
       "1.5375226994504665"
      ]
     },
     "execution_count": 67,
     "metadata": {},
     "output_type": "execute_result"
    }
   ],
   "source": [
    "benchmark6040_df['r_rf'].sum()"
   ]
  },
  {
   "cell_type": "markdown",
   "metadata": {},
   "source": [
    "**3. Calculate the monthly returns and standard devitations for the Sharpe ratio**"
   ]
  },
  {
   "cell_type": "code",
   "execution_count": 68,
   "metadata": {},
   "outputs": [
    {
     "data": {
      "text/plain": [
       "0      -0.142669\n",
       "1      -1.651298\n",
       "2      -1.212083\n",
       "3       1.189010\n",
       "4       1.917786\n",
       "          ...   \n",
       "1252    0.201670\n",
       "1253    0.040240\n",
       "1254    0.901718\n",
       "1255   -0.083526\n",
       "1256   -0.700775\n",
       "Name: r_ndq, Length: 1257, dtype: float64"
      ]
     },
     "execution_count": 68,
     "metadata": {},
     "output_type": "execute_result"
    }
   ],
   "source": [
    "benchmark6040_df.loc[benchmark6040_df.index, 'r_ndq']"
   ]
  },
  {
   "cell_type": "code",
   "execution_count": 69,
   "metadata": {},
   "outputs": [
    {
     "name": "stdout",
     "output_type": "stream",
     "text": [
      "            r_ndq_mean  r_ndq_std  r_rf_mean  r_rf_std  r_bm_mean  covariance\n",
      "Date                                                                         \n",
      "2015-01-31   -0.104777   1.198388  -0.144931  0.321663  -0.120839    0.055723\n",
      "2015-02-28    0.358291   0.599885   0.100132  0.375948   0.255027    0.013360\n",
      "2015-03-31   -0.110845   0.952409  -0.056918  0.339423  -0.089274    0.001097\n",
      "2015-04-30    0.087708   0.794675   0.040894  0.260074   0.068982   -0.050211\n",
      "2015-05-31    0.105356   0.880431   0.008616  0.362429   0.066660   -0.021629\n",
      "2015-06-30   -0.113824   0.802078   0.075092  0.469830  -0.038258   -0.065618\n",
      "2015-07-31    0.194430   0.907897  -0.068179  0.305180   0.089387   -0.028983\n",
      "2015-08-31   -0.337889   1.999347  -0.001862  0.372983  -0.203478   -0.015679\n",
      "2015-09-30   -0.105338   1.585170  -0.023711  0.334493  -0.072687   -0.119491\n",
      "2015-10-31    0.482049   0.918805   0.048626  0.300474   0.308680    0.064282\n",
      "2015-11-30    0.016836   0.854377  -0.005492  0.209434   0.007905    0.033048\n",
      "2015-12-31   -0.069957   1.253856   0.048738  0.376912  -0.022479   -0.036519\n",
      "2016-01-31   -0.372806   1.908675  -0.128195  0.240095  -0.274962   -0.073791\n",
      "2016-02-29   -0.092039   1.465859  -0.036225  0.394781  -0.069714    0.084703\n",
      "2016-03-31    0.295857   0.892931  -0.068998  0.405147   0.149915   -0.064569\n",
      "2016-04-30   -0.153647   0.860868   0.021978  0.238427  -0.083397   -0.051659\n",
      "2016-05-31    0.196183   0.858707   0.017637  0.278447   0.124765   -0.084028\n",
      "2016-06-30   -0.107968   1.316223  -0.119041  0.365693  -0.112397    0.041919\n",
      "2016-07-31    0.341773   0.520683   0.034113  0.251349   0.218709    0.005823\n",
      "2016-08-31    0.037359   0.409061   0.029896  0.283778   0.034374   -0.010064\n",
      "2016-09-30    0.103321   0.978356   0.092729  0.267682   0.099084    0.087383\n",
      "2016-10-31   -0.073254   0.569433   0.042004  0.175211  -0.027151   -0.015740\n",
      "2016-11-30    0.009452   0.965382   0.192774  0.320046   0.082781    0.042002\n",
      "2016-12-31    0.051988   0.715181   0.022938  0.267916   0.040368    0.075805\n",
      "2017-01-31    0.253702   0.442654   0.006740  0.287452   0.154917   -0.019073\n",
      "2017-02-28    0.215190   0.291064   0.001695  0.303758   0.129792   -0.007228\n",
      "2017-03-31    0.085550   0.504124  -0.026159  0.251566   0.040866    0.049902\n",
      "2017-04-30    0.140712   0.478013  -0.018489  0.244086   0.077032    0.000932\n",
      "2017-05-31    0.164108   0.685799  -0.015189  0.222976   0.092390   -0.016763\n",
      "2017-06-30   -0.112794   1.023162   0.048426  0.209092  -0.048306   -0.051182\n",
      "2017-07-31    0.202513   0.608438  -0.044561  0.201441   0.103683    0.024472\n",
      "2017-08-31    0.079325   0.884547  -0.024729  0.188601   0.037703    0.030819\n",
      "2017-09-30   -0.007771   0.602342   0.100020  0.221155   0.035345   -0.022961\n",
      "2017-10-31    0.200216   0.686260   0.012356  0.170013   0.125072   -0.045142\n",
      "2017-11-30    0.088339   0.662447   0.004588  0.192814   0.054839   -0.083018\n",
      "2017-12-31    0.024181   0.548903   0.033824  0.199596   0.028038    0.037700\n",
      "2018-01-31    0.395247   0.709407   0.097216  0.160903   0.276034   -0.006988\n",
      "2018-02-28   -0.072877   1.939148  -0.003935  0.293102  -0.045300    0.240025\n",
      "2018-03-31   -0.193749   1.696979  -0.002749  0.235958  -0.117349   -0.102588\n",
      "2018-04-30    0.017651   1.467062   0.074799  0.195291   0.040510   -0.103250\n",
      "2018-05-31    0.242619   0.715005   0.037635  0.254141   0.160626   -0.022576\n",
      "2018-06-30    0.049678   0.879179   0.003568  0.176308   0.031234   -0.003570\n",
      "2018-07-31    0.127577   0.969132   0.035433  0.170214   0.090719    0.004252\n",
      "2018-08-31    0.246902   0.588584  -0.036332  0.193875   0.133608   -0.017625\n",
      "2018-09-30   -0.018529   0.732661   0.061290  0.163088   0.013399   -0.024108\n",
      "2018-10-31   -0.393829   2.103902   0.003299  0.239189  -0.234978    0.025471\n",
      "2018-11-30   -0.012381   1.755170  -0.040773  0.169619  -0.023738    0.059106\n",
      "2018-12-31   -0.491072   2.348897  -0.094858  0.181611  -0.332586   -0.099691\n",
      "2019-01-31    0.415317   1.646839   0.025445  0.315784   0.259369   -0.078415\n",
      "2019-02-28    0.143340   0.649613   0.030676  0.198211   0.098275    0.010324\n",
      "2019-03-31    0.185048   0.915346  -0.084339  0.248620   0.077294    0.003743\n",
      "2019-04-30    0.253033   0.486817  -0.005424  0.187299   0.149650   -0.038415\n",
      "2019-05-31   -0.398722   1.223530  -0.117244  0.263048  -0.286131   -0.100638\n",
      "2019-06-30    0.367162   1.093022  -0.031424  0.306770   0.207727   -0.013500\n",
      "2019-07-31    0.104094   0.740535  -0.064960  0.271729   0.036472    0.070388\n",
      "2019-08-31   -0.092306   1.698678  -0.111300  0.340612  -0.099903    0.021204\n",
      "2019-09-30    0.037855   0.888121   0.030140  0.385828   0.034769    0.019028\n",
      "2019-10-31    0.183669   0.959700   0.021349  0.310475   0.118741    0.046292\n",
      "2019-11-30    0.194019   0.466737   0.040552  0.286262   0.132633   -0.015129\n",
      "2019-12-31    0.178856   0.590046   0.019434  0.339647   0.115087    0.031641\n"
     ]
    }
   ],
   "source": [
    "# Set 'Date' as the index of the DataFrame\n",
    "benchmark6040_df.set_index('Date', inplace=True)\n",
    "\n",
    "# Resample the data by month and calculate mean and standard deviation for specific columns\n",
    "monthly_stats = benchmark6040_df.resample('M').agg({\n",
    "    'r_ndq': ['mean', 'std'],\n",
    "    'r_rf': ['mean', 'std'],\n",
    "    'r_bm': 'mean',\n",
    "    })\n",
    "\n",
    "\n",
    "# Flatten the MultiIndex in columns created by agg()\n",
    "monthly_stats.columns = ['_'.join(map(str, col)).strip() if isinstance(col, tuple) else col for col in monthly_stats.columns.values]\n",
    "\n",
    "grouped = benchmark6040_df.resample('M')\n",
    "covariances = []\n",
    "for month in grouped:\n",
    "    cov = np.cov(month[1]['r_ndq'], month[1]['r_rf'])[0,1]\n",
    "    row = {'Date': month[0], 'covariance': cov}\n",
    "    covariances.append(row)\n",
    "\n",
    "covariances = pd.DataFrame(covariances)\n",
    "covariances.set_index('Date', inplace=True)\n",
    "\n",
    "# Combine the results\n",
    "monthly_stats = pd.concat([monthly_stats, covariances], axis=1)\n",
    "\n",
    "print(monthly_stats)\n"
   ]
  },
  {
   "cell_type": "code",
   "execution_count": 70,
   "metadata": {},
   "outputs": [
    {
     "data": {
      "text/html": [
       "<div>\n",
       "<style scoped>\n",
       "    .dataframe tbody tr th:only-of-type {\n",
       "        vertical-align: middle;\n",
       "    }\n",
       "\n",
       "    .dataframe tbody tr th {\n",
       "        vertical-align: top;\n",
       "    }\n",
       "\n",
       "    .dataframe thead th {\n",
       "        text-align: right;\n",
       "    }\n",
       "</style>\n",
       "<table border=\"1\" class=\"dataframe\">\n",
       "  <thead>\n",
       "    <tr style=\"text-align: right;\">\n",
       "      <th></th>\n",
       "      <th>r_ndq_mean</th>\n",
       "      <th>r_ndq_std</th>\n",
       "      <th>r_rf_mean</th>\n",
       "      <th>r_rf_std</th>\n",
       "      <th>r_bm_mean</th>\n",
       "      <th>covariance</th>\n",
       "      <th>std_bm</th>\n",
       "    </tr>\n",
       "    <tr>\n",
       "      <th>Date</th>\n",
       "      <th></th>\n",
       "      <th></th>\n",
       "      <th></th>\n",
       "      <th></th>\n",
       "      <th></th>\n",
       "      <th></th>\n",
       "      <th></th>\n",
       "    </tr>\n",
       "  </thead>\n",
       "  <tbody>\n",
       "    <tr>\n",
       "      <th>2015-01-31</th>\n",
       "      <td>-0.104777</td>\n",
       "      <td>1.198388</td>\n",
       "      <td>-0.144931</td>\n",
       "      <td>0.321663</td>\n",
       "      <td>-0.120839</td>\n",
       "      <td>0.055723</td>\n",
       "      <td>0.748538</td>\n",
       "    </tr>\n",
       "    <tr>\n",
       "      <th>2015-02-28</th>\n",
       "      <td>0.358291</td>\n",
       "      <td>0.599885</td>\n",
       "      <td>0.100132</td>\n",
       "      <td>0.375948</td>\n",
       "      <td>0.255027</td>\n",
       "      <td>0.013360</td>\n",
       "      <td>0.398217</td>\n",
       "    </tr>\n",
       "    <tr>\n",
       "      <th>2015-03-31</th>\n",
       "      <td>-0.110845</td>\n",
       "      <td>0.952409</td>\n",
       "      <td>-0.056918</td>\n",
       "      <td>0.339423</td>\n",
       "      <td>-0.089274</td>\n",
       "      <td>0.001097</td>\n",
       "      <td>0.587800</td>\n",
       "    </tr>\n",
       "    <tr>\n",
       "      <th>2015-04-30</th>\n",
       "      <td>0.087708</td>\n",
       "      <td>0.794675</td>\n",
       "      <td>0.040894</td>\n",
       "      <td>0.260074</td>\n",
       "      <td>0.068982</td>\n",
       "      <td>-0.050211</td>\n",
       "      <td>0.462670</td>\n",
       "    </tr>\n",
       "    <tr>\n",
       "      <th>2015-05-31</th>\n",
       "      <td>0.105356</td>\n",
       "      <td>0.880431</td>\n",
       "      <td>0.008616</td>\n",
       "      <td>0.362429</td>\n",
       "      <td>0.066660</td>\n",
       "      <td>-0.021629</td>\n",
       "      <td>0.538230</td>\n",
       "    </tr>\n",
       "  </tbody>\n",
       "</table>\n",
       "</div>"
      ],
      "text/plain": [
       "            r_ndq_mean  r_ndq_std  r_rf_mean  r_rf_std  r_bm_mean  covariance  \\\n",
       "Date                                                                            \n",
       "2015-01-31   -0.104777   1.198388  -0.144931  0.321663  -0.120839    0.055723   \n",
       "2015-02-28    0.358291   0.599885   0.100132  0.375948   0.255027    0.013360   \n",
       "2015-03-31   -0.110845   0.952409  -0.056918  0.339423  -0.089274    0.001097   \n",
       "2015-04-30    0.087708   0.794675   0.040894  0.260074   0.068982   -0.050211   \n",
       "2015-05-31    0.105356   0.880431   0.008616  0.362429   0.066660   -0.021629   \n",
       "\n",
       "              std_bm  \n",
       "Date                  \n",
       "2015-01-31  0.748538  \n",
       "2015-02-28  0.398217  \n",
       "2015-03-31  0.587800  \n",
       "2015-04-30  0.462670  \n",
       "2015-05-31  0.538230  "
      ]
     },
     "execution_count": 70,
     "metadata": {},
     "output_type": "execute_result"
    }
   ],
   "source": [
    "#calculate standard deviation of the portfolio per month:\n",
    "\n",
    "monthly_stats['std_bm'] = np.sqrt(w_ndq**2*monthly_stats['r_ndq_std']**2 + w_rf**2*monthly_stats['r_rf_std']**2 + 2*w_ndq*w_rf*monthly_stats['covariance'])\n",
    "\n",
    "monthly_stats.head()"
   ]
  },
  {
   "cell_type": "code",
   "execution_count": 71,
   "metadata": {},
   "outputs": [
    {
     "data": {
      "text/html": [
       "<div>\n",
       "<style scoped>\n",
       "    .dataframe tbody tr th:only-of-type {\n",
       "        vertical-align: middle;\n",
       "    }\n",
       "\n",
       "    .dataframe tbody tr th {\n",
       "        vertical-align: top;\n",
       "    }\n",
       "\n",
       "    .dataframe thead th {\n",
       "        text-align: right;\n",
       "    }\n",
       "</style>\n",
       "<table border=\"1\" class=\"dataframe\">\n",
       "  <thead>\n",
       "    <tr style=\"text-align: right;\">\n",
       "      <th></th>\n",
       "      <th>Date</th>\n",
       "      <th>r_ndq_mean</th>\n",
       "      <th>r_ndq_std</th>\n",
       "      <th>r_rf_mean</th>\n",
       "      <th>r_rf_std</th>\n",
       "      <th>r_bm_mean</th>\n",
       "      <th>covariance</th>\n",
       "      <th>std_bm</th>\n",
       "    </tr>\n",
       "  </thead>\n",
       "  <tbody>\n",
       "    <tr>\n",
       "      <th>0</th>\n",
       "      <td>2015-01-31</td>\n",
       "      <td>-0.104777</td>\n",
       "      <td>1.198388</td>\n",
       "      <td>-0.144931</td>\n",
       "      <td>0.321663</td>\n",
       "      <td>-0.120839</td>\n",
       "      <td>0.055723</td>\n",
       "      <td>0.748538</td>\n",
       "    </tr>\n",
       "    <tr>\n",
       "      <th>1</th>\n",
       "      <td>2015-02-28</td>\n",
       "      <td>0.358291</td>\n",
       "      <td>0.599885</td>\n",
       "      <td>0.100132</td>\n",
       "      <td>0.375948</td>\n",
       "      <td>0.255027</td>\n",
       "      <td>0.013360</td>\n",
       "      <td>0.398217</td>\n",
       "    </tr>\n",
       "    <tr>\n",
       "      <th>2</th>\n",
       "      <td>2015-03-31</td>\n",
       "      <td>-0.110845</td>\n",
       "      <td>0.952409</td>\n",
       "      <td>-0.056918</td>\n",
       "      <td>0.339423</td>\n",
       "      <td>-0.089274</td>\n",
       "      <td>0.001097</td>\n",
       "      <td>0.587800</td>\n",
       "    </tr>\n",
       "    <tr>\n",
       "      <th>3</th>\n",
       "      <td>2015-04-30</td>\n",
       "      <td>0.087708</td>\n",
       "      <td>0.794675</td>\n",
       "      <td>0.040894</td>\n",
       "      <td>0.260074</td>\n",
       "      <td>0.068982</td>\n",
       "      <td>-0.050211</td>\n",
       "      <td>0.462670</td>\n",
       "    </tr>\n",
       "    <tr>\n",
       "      <th>4</th>\n",
       "      <td>2015-05-31</td>\n",
       "      <td>0.105356</td>\n",
       "      <td>0.880431</td>\n",
       "      <td>0.008616</td>\n",
       "      <td>0.362429</td>\n",
       "      <td>0.066660</td>\n",
       "      <td>-0.021629</td>\n",
       "      <td>0.538230</td>\n",
       "    </tr>\n",
       "  </tbody>\n",
       "</table>\n",
       "</div>"
      ],
      "text/plain": [
       "        Date  r_ndq_mean  r_ndq_std  r_rf_mean  r_rf_std  r_bm_mean  \\\n",
       "0 2015-01-31   -0.104777   1.198388  -0.144931  0.321663  -0.120839   \n",
       "1 2015-02-28    0.358291   0.599885   0.100132  0.375948   0.255027   \n",
       "2 2015-03-31   -0.110845   0.952409  -0.056918  0.339423  -0.089274   \n",
       "3 2015-04-30    0.087708   0.794675   0.040894  0.260074   0.068982   \n",
       "4 2015-05-31    0.105356   0.880431   0.008616  0.362429   0.066660   \n",
       "\n",
       "   covariance    std_bm  \n",
       "0    0.055723  0.748538  \n",
       "1    0.013360  0.398217  \n",
       "2    0.001097  0.587800  \n",
       "3   -0.050211  0.462670  \n",
       "4   -0.021629  0.538230  "
      ]
     },
     "execution_count": 71,
     "metadata": {},
     "output_type": "execute_result"
    }
   ],
   "source": [
    "monthly_stats = monthly_stats.reset_index()\n",
    "monthly_stats.head()"
   ]
  },
  {
   "cell_type": "code",
   "execution_count": 72,
   "metadata": {},
   "outputs": [
    {
     "data": {
      "text/html": [
       "<div>\n",
       "<style scoped>\n",
       "    .dataframe tbody tr th:only-of-type {\n",
       "        vertical-align: middle;\n",
       "    }\n",
       "\n",
       "    .dataframe tbody tr th {\n",
       "        vertical-align: top;\n",
       "    }\n",
       "\n",
       "    .dataframe thead th {\n",
       "        text-align: right;\n",
       "    }\n",
       "</style>\n",
       "<table border=\"1\" class=\"dataframe\">\n",
       "  <thead>\n",
       "    <tr style=\"text-align: right;\">\n",
       "      <th></th>\n",
       "      <th>Date</th>\n",
       "      <th>r_ndq_mean</th>\n",
       "      <th>r_ndq_std</th>\n",
       "      <th>r_rf_mean</th>\n",
       "      <th>r_rf_std</th>\n",
       "      <th>r_bm_mean</th>\n",
       "      <th>covariance</th>\n",
       "      <th>std_bm</th>\n",
       "    </tr>\n",
       "  </thead>\n",
       "  <tbody>\n",
       "    <tr>\n",
       "      <th>0</th>\n",
       "      <td>2015-01-01</td>\n",
       "      <td>-0.104777</td>\n",
       "      <td>1.198388</td>\n",
       "      <td>-0.144931</td>\n",
       "      <td>0.321663</td>\n",
       "      <td>-0.120839</td>\n",
       "      <td>0.055723</td>\n",
       "      <td>0.748538</td>\n",
       "    </tr>\n",
       "    <tr>\n",
       "      <th>1</th>\n",
       "      <td>2015-02-01</td>\n",
       "      <td>0.358291</td>\n",
       "      <td>0.599885</td>\n",
       "      <td>0.100132</td>\n",
       "      <td>0.375948</td>\n",
       "      <td>0.255027</td>\n",
       "      <td>0.013360</td>\n",
       "      <td>0.398217</td>\n",
       "    </tr>\n",
       "    <tr>\n",
       "      <th>2</th>\n",
       "      <td>2015-03-01</td>\n",
       "      <td>-0.110845</td>\n",
       "      <td>0.952409</td>\n",
       "      <td>-0.056918</td>\n",
       "      <td>0.339423</td>\n",
       "      <td>-0.089274</td>\n",
       "      <td>0.001097</td>\n",
       "      <td>0.587800</td>\n",
       "    </tr>\n",
       "    <tr>\n",
       "      <th>3</th>\n",
       "      <td>2015-04-01</td>\n",
       "      <td>0.087708</td>\n",
       "      <td>0.794675</td>\n",
       "      <td>0.040894</td>\n",
       "      <td>0.260074</td>\n",
       "      <td>0.068982</td>\n",
       "      <td>-0.050211</td>\n",
       "      <td>0.462670</td>\n",
       "    </tr>\n",
       "    <tr>\n",
       "      <th>4</th>\n",
       "      <td>2015-05-01</td>\n",
       "      <td>0.105356</td>\n",
       "      <td>0.880431</td>\n",
       "      <td>0.008616</td>\n",
       "      <td>0.362429</td>\n",
       "      <td>0.066660</td>\n",
       "      <td>-0.021629</td>\n",
       "      <td>0.538230</td>\n",
       "    </tr>\n",
       "  </tbody>\n",
       "</table>\n",
       "</div>"
      ],
      "text/plain": [
       "         Date  r_ndq_mean  r_ndq_std  r_rf_mean  r_rf_std  r_bm_mean  \\\n",
       "0  2015-01-01   -0.104777   1.198388  -0.144931  0.321663  -0.120839   \n",
       "1  2015-02-01    0.358291   0.599885   0.100132  0.375948   0.255027   \n",
       "2  2015-03-01   -0.110845   0.952409  -0.056918  0.339423  -0.089274   \n",
       "3  2015-04-01    0.087708   0.794675   0.040894  0.260074   0.068982   \n",
       "4  2015-05-01    0.105356   0.880431   0.008616  0.362429   0.066660   \n",
       "\n",
       "   covariance    std_bm  \n",
       "0    0.055723  0.748538  \n",
       "1    0.013360  0.398217  \n",
       "2    0.001097  0.587800  \n",
       "3   -0.050211  0.462670  \n",
       "4   -0.021629  0.538230  "
      ]
     },
     "execution_count": 72,
     "metadata": {},
     "output_type": "execute_result"
    }
   ],
   "source": [
    "\n",
    "# Change index to the first of each month\n",
    "monthly_stats['Date'] = pd.to_datetime(monthly_stats['Date']).dt.to_period('M').dt.to_timestamp().dt.date\n",
    "monthly_stats.head()\n"
   ]
  },
  {
   "cell_type": "code",
   "execution_count": 73,
   "metadata": {},
   "outputs": [
    {
     "data": {
      "text/html": [
       "<div>\n",
       "<style scoped>\n",
       "    .dataframe tbody tr th:only-of-type {\n",
       "        vertical-align: middle;\n",
       "    }\n",
       "\n",
       "    .dataframe tbody tr th {\n",
       "        vertical-align: top;\n",
       "    }\n",
       "\n",
       "    .dataframe thead th {\n",
       "        text-align: right;\n",
       "    }\n",
       "</style>\n",
       "<table border=\"1\" class=\"dataframe\">\n",
       "  <thead>\n",
       "    <tr style=\"text-align: right;\">\n",
       "      <th></th>\n",
       "      <th>Date</th>\n",
       "      <th>r_ndq_mean</th>\n",
       "      <th>r_ndq_std</th>\n",
       "      <th>r_rf_mean</th>\n",
       "      <th>r_rf_std</th>\n",
       "      <th>r_bm_mean</th>\n",
       "      <th>covariance</th>\n",
       "      <th>std_bm</th>\n",
       "    </tr>\n",
       "  </thead>\n",
       "  <tbody>\n",
       "    <tr>\n",
       "      <th>0</th>\n",
       "      <td>2015-01-01</td>\n",
       "      <td>-0.104777</td>\n",
       "      <td>1.198388</td>\n",
       "      <td>-0.144931</td>\n",
       "      <td>0.321663</td>\n",
       "      <td>-0.120839</td>\n",
       "      <td>0.055723</td>\n",
       "      <td>0.748538</td>\n",
       "    </tr>\n",
       "    <tr>\n",
       "      <th>1</th>\n",
       "      <td>2015-02-01</td>\n",
       "      <td>0.358291</td>\n",
       "      <td>0.599885</td>\n",
       "      <td>0.100132</td>\n",
       "      <td>0.375948</td>\n",
       "      <td>0.255027</td>\n",
       "      <td>0.013360</td>\n",
       "      <td>0.398217</td>\n",
       "    </tr>\n",
       "    <tr>\n",
       "      <th>2</th>\n",
       "      <td>2015-03-01</td>\n",
       "      <td>-0.110845</td>\n",
       "      <td>0.952409</td>\n",
       "      <td>-0.056918</td>\n",
       "      <td>0.339423</td>\n",
       "      <td>-0.089274</td>\n",
       "      <td>0.001097</td>\n",
       "      <td>0.587800</td>\n",
       "    </tr>\n",
       "    <tr>\n",
       "      <th>3</th>\n",
       "      <td>2015-04-01</td>\n",
       "      <td>0.087708</td>\n",
       "      <td>0.794675</td>\n",
       "      <td>0.040894</td>\n",
       "      <td>0.260074</td>\n",
       "      <td>0.068982</td>\n",
       "      <td>-0.050211</td>\n",
       "      <td>0.462670</td>\n",
       "    </tr>\n",
       "    <tr>\n",
       "      <th>4</th>\n",
       "      <td>2015-05-01</td>\n",
       "      <td>0.105356</td>\n",
       "      <td>0.880431</td>\n",
       "      <td>0.008616</td>\n",
       "      <td>0.362429</td>\n",
       "      <td>0.066660</td>\n",
       "      <td>-0.021629</td>\n",
       "      <td>0.538230</td>\n",
       "    </tr>\n",
       "  </tbody>\n",
       "</table>\n",
       "</div>"
      ],
      "text/plain": [
       "         Date  r_ndq_mean  r_ndq_std  r_rf_mean  r_rf_std  r_bm_mean  \\\n",
       "0  2015-01-01   -0.104777   1.198388  -0.144931  0.321663  -0.120839   \n",
       "1  2015-02-01    0.358291   0.599885   0.100132  0.375948   0.255027   \n",
       "2  2015-03-01   -0.110845   0.952409  -0.056918  0.339423  -0.089274   \n",
       "3  2015-04-01    0.087708   0.794675   0.040894  0.260074   0.068982   \n",
       "4  2015-05-01    0.105356   0.880431   0.008616  0.362429   0.066660   \n",
       "\n",
       "   covariance    std_bm  \n",
       "0    0.055723  0.748538  \n",
       "1    0.013360  0.398217  \n",
       "2    0.001097  0.587800  \n",
       "3   -0.050211  0.462670  \n",
       "4   -0.021629  0.538230  "
      ]
     },
     "execution_count": 73,
     "metadata": {},
     "output_type": "execute_result"
    }
   ],
   "source": [
    "monthly_stats.head()"
   ]
  },
  {
   "cell_type": "markdown",
   "metadata": {},
   "source": [
    "**4. Get the risk free rate (GS1M)**"
   ]
  },
  {
   "cell_type": "code",
   "execution_count": 74,
   "metadata": {},
   "outputs": [
    {
     "data": {
      "text/html": [
       "<div>\n",
       "<style scoped>\n",
       "    .dataframe tbody tr th:only-of-type {\n",
       "        vertical-align: middle;\n",
       "    }\n",
       "\n",
       "    .dataframe tbody tr th {\n",
       "        vertical-align: top;\n",
       "    }\n",
       "\n",
       "    .dataframe thead th {\n",
       "        text-align: right;\n",
       "    }\n",
       "</style>\n",
       "<table border=\"1\" class=\"dataframe\">\n",
       "  <thead>\n",
       "    <tr style=\"text-align: right;\">\n",
       "      <th></th>\n",
       "      <th>DATE</th>\n",
       "      <th>GS1M</th>\n",
       "    </tr>\n",
       "  </thead>\n",
       "  <tbody>\n",
       "    <tr>\n",
       "      <th>0</th>\n",
       "      <td>2015-01-01</td>\n",
       "      <td>0.02</td>\n",
       "    </tr>\n",
       "    <tr>\n",
       "      <th>1</th>\n",
       "      <td>2015-02-01</td>\n",
       "      <td>0.02</td>\n",
       "    </tr>\n",
       "    <tr>\n",
       "      <th>2</th>\n",
       "      <td>2015-03-01</td>\n",
       "      <td>0.02</td>\n",
       "    </tr>\n",
       "    <tr>\n",
       "      <th>3</th>\n",
       "      <td>2015-04-01</td>\n",
       "      <td>0.02</td>\n",
       "    </tr>\n",
       "    <tr>\n",
       "      <th>4</th>\n",
       "      <td>2015-05-01</td>\n",
       "      <td>0.01</td>\n",
       "    </tr>\n",
       "  </tbody>\n",
       "</table>\n",
       "</div>"
      ],
      "text/plain": [
       "         DATE  GS1M\n",
       "0  2015-01-01  0.02\n",
       "1  2015-02-01  0.02\n",
       "2  2015-03-01  0.02\n",
       "3  2015-04-01  0.02\n",
       "4  2015-05-01  0.01"
      ]
     },
     "execution_count": 74,
     "metadata": {},
     "output_type": "execute_result"
    }
   ],
   "source": [
    "r_rf_df = pd.read_csv('https://raw.githubusercontent.com/inga-maria01/master_thesis/main/data/GS1M.csv')\n",
    "r_rf_df.head()"
   ]
  },
  {
   "cell_type": "code",
   "execution_count": 75,
   "metadata": {},
   "outputs": [
    {
     "data": {
      "text/html": [
       "<div>\n",
       "<style scoped>\n",
       "    .dataframe tbody tr th:only-of-type {\n",
       "        vertical-align: middle;\n",
       "    }\n",
       "\n",
       "    .dataframe tbody tr th {\n",
       "        vertical-align: top;\n",
       "    }\n",
       "\n",
       "    .dataframe thead th {\n",
       "        text-align: right;\n",
       "    }\n",
       "</style>\n",
       "<table border=\"1\" class=\"dataframe\">\n",
       "  <thead>\n",
       "    <tr style=\"text-align: right;\">\n",
       "      <th></th>\n",
       "      <th>Date</th>\n",
       "      <th>GS1M</th>\n",
       "      <th>monthly_rf</th>\n",
       "    </tr>\n",
       "  </thead>\n",
       "  <tbody>\n",
       "    <tr>\n",
       "      <th>0</th>\n",
       "      <td>2015-01-01</td>\n",
       "      <td>0.02</td>\n",
       "      <td>0.001667</td>\n",
       "    </tr>\n",
       "    <tr>\n",
       "      <th>1</th>\n",
       "      <td>2015-02-01</td>\n",
       "      <td>0.02</td>\n",
       "      <td>0.001667</td>\n",
       "    </tr>\n",
       "    <tr>\n",
       "      <th>2</th>\n",
       "      <td>2015-03-01</td>\n",
       "      <td>0.02</td>\n",
       "      <td>0.001667</td>\n",
       "    </tr>\n",
       "    <tr>\n",
       "      <th>3</th>\n",
       "      <td>2015-04-01</td>\n",
       "      <td>0.02</td>\n",
       "      <td>0.001667</td>\n",
       "    </tr>\n",
       "    <tr>\n",
       "      <th>4</th>\n",
       "      <td>2015-05-01</td>\n",
       "      <td>0.01</td>\n",
       "      <td>0.000833</td>\n",
       "    </tr>\n",
       "  </tbody>\n",
       "</table>\n",
       "</div>"
      ],
      "text/plain": [
       "         Date  GS1M  monthly_rf\n",
       "0  2015-01-01  0.02    0.001667\n",
       "1  2015-02-01  0.02    0.001667\n",
       "2  2015-03-01  0.02    0.001667\n",
       "3  2015-04-01  0.02    0.001667\n",
       "4  2015-05-01  0.01    0.000833"
      ]
     },
     "execution_count": 75,
     "metadata": {},
     "output_type": "execute_result"
    }
   ],
   "source": [
    "#divide by 12 to get monthly returns instead of annual:\n",
    "r_rf_df['monthly_rf'] = r_rf_df['GS1M']/12\n",
    "r_rf_df.rename(columns = {'DATE':'Date'}, inplace = True)\n",
    "r_rf_df.head()"
   ]
  },
  {
   "cell_type": "markdown",
   "metadata": {},
   "source": [
    "**5. Finally: calculate the monthly sharpe ratio for the benchmark portfolio:**"
   ]
  },
  {
   "cell_type": "code",
   "execution_count": 86,
   "metadata": {},
   "outputs": [],
   "source": [
    "sharpe_df = pd.merge(monthly_stats, r_rf_df, on='Date', how='left')"
   ]
  },
  {
   "cell_type": "code",
   "execution_count": 83,
   "metadata": {},
   "outputs": [
    {
     "data": {
      "text/html": [
       "<div>\n",
       "<style scoped>\n",
       "    .dataframe tbody tr th:only-of-type {\n",
       "        vertical-align: middle;\n",
       "    }\n",
       "\n",
       "    .dataframe tbody tr th {\n",
       "        vertical-align: top;\n",
       "    }\n",
       "\n",
       "    .dataframe thead th {\n",
       "        text-align: right;\n",
       "    }\n",
       "</style>\n",
       "<table border=\"1\" class=\"dataframe\">\n",
       "  <thead>\n",
       "    <tr style=\"text-align: right;\">\n",
       "      <th></th>\n",
       "      <th>Date</th>\n",
       "      <th>r_ndq_mean</th>\n",
       "      <th>r_ndq_std</th>\n",
       "      <th>r_rf_mean</th>\n",
       "      <th>r_rf_std</th>\n",
       "      <th>r_bm_mean</th>\n",
       "      <th>covariance</th>\n",
       "      <th>std_bm</th>\n",
       "    </tr>\n",
       "  </thead>\n",
       "  <tbody>\n",
       "    <tr>\n",
       "      <th>0</th>\n",
       "      <td>2015-01-01</td>\n",
       "      <td>-0.104777</td>\n",
       "      <td>1.198388</td>\n",
       "      <td>-0.144931</td>\n",
       "      <td>0.321663</td>\n",
       "      <td>-0.120839</td>\n",
       "      <td>0.055723</td>\n",
       "      <td>0.748538</td>\n",
       "    </tr>\n",
       "    <tr>\n",
       "      <th>1</th>\n",
       "      <td>2015-02-01</td>\n",
       "      <td>0.358291</td>\n",
       "      <td>0.599885</td>\n",
       "      <td>0.100132</td>\n",
       "      <td>0.375948</td>\n",
       "      <td>0.255027</td>\n",
       "      <td>0.013360</td>\n",
       "      <td>0.398217</td>\n",
       "    </tr>\n",
       "    <tr>\n",
       "      <th>2</th>\n",
       "      <td>2015-03-01</td>\n",
       "      <td>-0.110845</td>\n",
       "      <td>0.952409</td>\n",
       "      <td>-0.056918</td>\n",
       "      <td>0.339423</td>\n",
       "      <td>-0.089274</td>\n",
       "      <td>0.001097</td>\n",
       "      <td>0.587800</td>\n",
       "    </tr>\n",
       "    <tr>\n",
       "      <th>3</th>\n",
       "      <td>2015-04-01</td>\n",
       "      <td>0.087708</td>\n",
       "      <td>0.794675</td>\n",
       "      <td>0.040894</td>\n",
       "      <td>0.260074</td>\n",
       "      <td>0.068982</td>\n",
       "      <td>-0.050211</td>\n",
       "      <td>0.462670</td>\n",
       "    </tr>\n",
       "    <tr>\n",
       "      <th>4</th>\n",
       "      <td>2015-05-01</td>\n",
       "      <td>0.105356</td>\n",
       "      <td>0.880431</td>\n",
       "      <td>0.008616</td>\n",
       "      <td>0.362429</td>\n",
       "      <td>0.066660</td>\n",
       "      <td>-0.021629</td>\n",
       "      <td>0.538230</td>\n",
       "    </tr>\n",
       "  </tbody>\n",
       "</table>\n",
       "</div>"
      ],
      "text/plain": [
       "        Date  r_ndq_mean  r_ndq_std  r_rf_mean  r_rf_std  r_bm_mean  \\\n",
       "0 2015-01-01   -0.104777   1.198388  -0.144931  0.321663  -0.120839   \n",
       "1 2015-02-01    0.358291   0.599885   0.100132  0.375948   0.255027   \n",
       "2 2015-03-01   -0.110845   0.952409  -0.056918  0.339423  -0.089274   \n",
       "3 2015-04-01    0.087708   0.794675   0.040894  0.260074   0.068982   \n",
       "4 2015-05-01    0.105356   0.880431   0.008616  0.362429   0.066660   \n",
       "\n",
       "   covariance    std_bm  \n",
       "0    0.055723  0.748538  \n",
       "1    0.013360  0.398217  \n",
       "2    0.001097  0.587800  \n",
       "3   -0.050211  0.462670  \n",
       "4   -0.021629  0.538230  "
      ]
     },
     "execution_count": 83,
     "metadata": {},
     "output_type": "execute_result"
    }
   ],
   "source": [
    "monthly_stats['Date'] = pd.to_datetime(monthly_stats['Date'])\n",
    "monthly_stats.head()"
   ]
  },
  {
   "cell_type": "code",
   "execution_count": 84,
   "metadata": {},
   "outputs": [],
   "source": [
    "r_rf_df['Date'] = pd.to_datetime(r_rf_df['Date'])"
   ]
  },
  {
   "cell_type": "code",
   "execution_count": 87,
   "metadata": {},
   "outputs": [
    {
     "data": {
      "text/html": [
       "<div>\n",
       "<style scoped>\n",
       "    .dataframe tbody tr th:only-of-type {\n",
       "        vertical-align: middle;\n",
       "    }\n",
       "\n",
       "    .dataframe tbody tr th {\n",
       "        vertical-align: top;\n",
       "    }\n",
       "\n",
       "    .dataframe thead th {\n",
       "        text-align: right;\n",
       "    }\n",
       "</style>\n",
       "<table border=\"1\" class=\"dataframe\">\n",
       "  <thead>\n",
       "    <tr style=\"text-align: right;\">\n",
       "      <th></th>\n",
       "      <th>Date</th>\n",
       "      <th>r_ndq_mean</th>\n",
       "      <th>r_ndq_std</th>\n",
       "      <th>r_rf_mean</th>\n",
       "      <th>r_rf_std</th>\n",
       "      <th>r_bm_mean</th>\n",
       "      <th>covariance</th>\n",
       "      <th>std_bm</th>\n",
       "      <th>GS1M</th>\n",
       "      <th>monthly_rf</th>\n",
       "    </tr>\n",
       "  </thead>\n",
       "  <tbody>\n",
       "    <tr>\n",
       "      <th>0</th>\n",
       "      <td>2015-01-01</td>\n",
       "      <td>-0.104777</td>\n",
       "      <td>1.198388</td>\n",
       "      <td>-0.144931</td>\n",
       "      <td>0.321663</td>\n",
       "      <td>-0.120839</td>\n",
       "      <td>0.055723</td>\n",
       "      <td>0.748538</td>\n",
       "      <td>0.02</td>\n",
       "      <td>0.001667</td>\n",
       "    </tr>\n",
       "    <tr>\n",
       "      <th>1</th>\n",
       "      <td>2015-02-01</td>\n",
       "      <td>0.358291</td>\n",
       "      <td>0.599885</td>\n",
       "      <td>0.100132</td>\n",
       "      <td>0.375948</td>\n",
       "      <td>0.255027</td>\n",
       "      <td>0.013360</td>\n",
       "      <td>0.398217</td>\n",
       "      <td>0.02</td>\n",
       "      <td>0.001667</td>\n",
       "    </tr>\n",
       "    <tr>\n",
       "      <th>2</th>\n",
       "      <td>2015-03-01</td>\n",
       "      <td>-0.110845</td>\n",
       "      <td>0.952409</td>\n",
       "      <td>-0.056918</td>\n",
       "      <td>0.339423</td>\n",
       "      <td>-0.089274</td>\n",
       "      <td>0.001097</td>\n",
       "      <td>0.587800</td>\n",
       "      <td>0.02</td>\n",
       "      <td>0.001667</td>\n",
       "    </tr>\n",
       "    <tr>\n",
       "      <th>3</th>\n",
       "      <td>2015-04-01</td>\n",
       "      <td>0.087708</td>\n",
       "      <td>0.794675</td>\n",
       "      <td>0.040894</td>\n",
       "      <td>0.260074</td>\n",
       "      <td>0.068982</td>\n",
       "      <td>-0.050211</td>\n",
       "      <td>0.462670</td>\n",
       "      <td>0.02</td>\n",
       "      <td>0.001667</td>\n",
       "    </tr>\n",
       "    <tr>\n",
       "      <th>4</th>\n",
       "      <td>2015-05-01</td>\n",
       "      <td>0.105356</td>\n",
       "      <td>0.880431</td>\n",
       "      <td>0.008616</td>\n",
       "      <td>0.362429</td>\n",
       "      <td>0.066660</td>\n",
       "      <td>-0.021629</td>\n",
       "      <td>0.538230</td>\n",
       "      <td>0.01</td>\n",
       "      <td>0.000833</td>\n",
       "    </tr>\n",
       "  </tbody>\n",
       "</table>\n",
       "</div>"
      ],
      "text/plain": [
       "        Date  r_ndq_mean  r_ndq_std  r_rf_mean  r_rf_std  r_bm_mean  \\\n",
       "0 2015-01-01   -0.104777   1.198388  -0.144931  0.321663  -0.120839   \n",
       "1 2015-02-01    0.358291   0.599885   0.100132  0.375948   0.255027   \n",
       "2 2015-03-01   -0.110845   0.952409  -0.056918  0.339423  -0.089274   \n",
       "3 2015-04-01    0.087708   0.794675   0.040894  0.260074   0.068982   \n",
       "4 2015-05-01    0.105356   0.880431   0.008616  0.362429   0.066660   \n",
       "\n",
       "   covariance    std_bm  GS1M  monthly_rf  \n",
       "0    0.055723  0.748538  0.02    0.001667  \n",
       "1    0.013360  0.398217  0.02    0.001667  \n",
       "2    0.001097  0.587800  0.02    0.001667  \n",
       "3   -0.050211  0.462670  0.02    0.001667  \n",
       "4   -0.021629  0.538230  0.01    0.000833  "
      ]
     },
     "execution_count": 87,
     "metadata": {},
     "output_type": "execute_result"
    }
   ],
   "source": [
    "sharpe_df.head()"
   ]
  },
  {
   "cell_type": "code",
   "execution_count": 88,
   "metadata": {},
   "outputs": [],
   "source": [
    "sharpe_df['risk_premium'] = sharpe_df['r_bm_mean'] - sharpe_df['monthly_rf']\n",
    "\n",
    "#sharpe_bm = risk_premium / monthly_stats['std_bm']"
   ]
  },
  {
   "cell_type": "code",
   "execution_count": 90,
   "metadata": {},
   "outputs": [
    {
     "data": {
      "text/html": [
       "<div>\n",
       "<style scoped>\n",
       "    .dataframe tbody tr th:only-of-type {\n",
       "        vertical-align: middle;\n",
       "    }\n",
       "\n",
       "    .dataframe tbody tr th {\n",
       "        vertical-align: top;\n",
       "    }\n",
       "\n",
       "    .dataframe thead th {\n",
       "        text-align: right;\n",
       "    }\n",
       "</style>\n",
       "<table border=\"1\" class=\"dataframe\">\n",
       "  <thead>\n",
       "    <tr style=\"text-align: right;\">\n",
       "      <th></th>\n",
       "      <th>Date</th>\n",
       "      <th>r_ndq_mean</th>\n",
       "      <th>r_ndq_std</th>\n",
       "      <th>r_rf_mean</th>\n",
       "      <th>r_rf_std</th>\n",
       "      <th>r_bm_mean</th>\n",
       "      <th>covariance</th>\n",
       "      <th>std_bm</th>\n",
       "      <th>GS1M</th>\n",
       "      <th>monthly_rf</th>\n",
       "      <th>risk_premium</th>\n",
       "      <th>sharpe_ratio</th>\n",
       "    </tr>\n",
       "  </thead>\n",
       "  <tbody>\n",
       "    <tr>\n",
       "      <th>0</th>\n",
       "      <td>2015-01-01</td>\n",
       "      <td>-0.104777</td>\n",
       "      <td>1.198388</td>\n",
       "      <td>-0.144931</td>\n",
       "      <td>0.321663</td>\n",
       "      <td>-0.120839</td>\n",
       "      <td>0.055723</td>\n",
       "      <td>0.748538</td>\n",
       "      <td>0.02</td>\n",
       "      <td>0.001667</td>\n",
       "      <td>-0.122506</td>\n",
       "      <td>-0.163660</td>\n",
       "    </tr>\n",
       "    <tr>\n",
       "      <th>1</th>\n",
       "      <td>2015-02-01</td>\n",
       "      <td>0.358291</td>\n",
       "      <td>0.599885</td>\n",
       "      <td>0.100132</td>\n",
       "      <td>0.375948</td>\n",
       "      <td>0.255027</td>\n",
       "      <td>0.013360</td>\n",
       "      <td>0.398217</td>\n",
       "      <td>0.02</td>\n",
       "      <td>0.001667</td>\n",
       "      <td>0.253361</td>\n",
       "      <td>0.636237</td>\n",
       "    </tr>\n",
       "    <tr>\n",
       "      <th>2</th>\n",
       "      <td>2015-03-01</td>\n",
       "      <td>-0.110845</td>\n",
       "      <td>0.952409</td>\n",
       "      <td>-0.056918</td>\n",
       "      <td>0.339423</td>\n",
       "      <td>-0.089274</td>\n",
       "      <td>0.001097</td>\n",
       "      <td>0.587800</td>\n",
       "      <td>0.02</td>\n",
       "      <td>0.001667</td>\n",
       "      <td>-0.090941</td>\n",
       "      <td>-0.154714</td>\n",
       "    </tr>\n",
       "    <tr>\n",
       "      <th>3</th>\n",
       "      <td>2015-04-01</td>\n",
       "      <td>0.087708</td>\n",
       "      <td>0.794675</td>\n",
       "      <td>0.040894</td>\n",
       "      <td>0.260074</td>\n",
       "      <td>0.068982</td>\n",
       "      <td>-0.050211</td>\n",
       "      <td>0.462670</td>\n",
       "      <td>0.02</td>\n",
       "      <td>0.001667</td>\n",
       "      <td>0.067316</td>\n",
       "      <td>0.145494</td>\n",
       "    </tr>\n",
       "    <tr>\n",
       "      <th>4</th>\n",
       "      <td>2015-05-01</td>\n",
       "      <td>0.105356</td>\n",
       "      <td>0.880431</td>\n",
       "      <td>0.008616</td>\n",
       "      <td>0.362429</td>\n",
       "      <td>0.066660</td>\n",
       "      <td>-0.021629</td>\n",
       "      <td>0.538230</td>\n",
       "      <td>0.01</td>\n",
       "      <td>0.000833</td>\n",
       "      <td>0.065826</td>\n",
       "      <td>0.122302</td>\n",
       "    </tr>\n",
       "  </tbody>\n",
       "</table>\n",
       "</div>"
      ],
      "text/plain": [
       "        Date  r_ndq_mean  r_ndq_std  r_rf_mean  r_rf_std  r_bm_mean  \\\n",
       "0 2015-01-01   -0.104777   1.198388  -0.144931  0.321663  -0.120839   \n",
       "1 2015-02-01    0.358291   0.599885   0.100132  0.375948   0.255027   \n",
       "2 2015-03-01   -0.110845   0.952409  -0.056918  0.339423  -0.089274   \n",
       "3 2015-04-01    0.087708   0.794675   0.040894  0.260074   0.068982   \n",
       "4 2015-05-01    0.105356   0.880431   0.008616  0.362429   0.066660   \n",
       "\n",
       "   covariance    std_bm  GS1M  monthly_rf  risk_premium  sharpe_ratio  \n",
       "0    0.055723  0.748538  0.02    0.001667     -0.122506     -0.163660  \n",
       "1    0.013360  0.398217  0.02    0.001667      0.253361      0.636237  \n",
       "2    0.001097  0.587800  0.02    0.001667     -0.090941     -0.154714  \n",
       "3   -0.050211  0.462670  0.02    0.001667      0.067316      0.145494  \n",
       "4   -0.021629  0.538230  0.01    0.000833      0.065826      0.122302  "
      ]
     },
     "execution_count": 90,
     "metadata": {},
     "output_type": "execute_result"
    }
   ],
   "source": [
    "sharpe_df['sharpe_ratio'] = sharpe_df['risk_premium']/sharpe_df['std_bm']\n",
    "sharpe_df.head()"
   ]
  },
  {
   "cell_type": "code",
   "execution_count": 97,
   "metadata": {},
   "outputs": [
    {
     "data": {
      "text/plain": [
       "<matplotlib.lines.Line2D at 0x16e3f6f4fa0>"
      ]
     },
     "execution_count": 97,
     "metadata": {},
     "output_type": "execute_result"
    },
    {
     "data": {
      "image/png": "[encoded data removed]",
      "text/plain": [
       "<Figure size 640x480 with 1 Axes>"
      ]
     },
     "metadata": {},
     "output_type": "display_data"
    }
   ],
   "source": [
    "plt.plot(sharpe_df['Date'], sharpe_df['sharpe_ratio'], color = 'black')\n",
    "plt.axhline(0, color = 'red', linestyle = '--')"
   ]
  },
  {
   "cell_type": "code",
   "execution_count": 98,
   "metadata": {},
   "outputs": [
    {
     "data": {
      "text/plain": [
       "[<matplotlib.lines.Line2D at 0x16e3f75d190>]"
      ]
     },
     "execution_count": 98,
     "metadata": {},
     "output_type": "execute_result"
    },
    {
     "data": {
      "image/png": "[encoded data removed]",
      "text/plain": [
       "<Figure size 640x480 with 1 Axes>"
      ]
     },
     "metadata": {},
     "output_type": "display_data"
    }
   ],
   "source": [
    "plt.plot(sharpe_df['Date'], sharpe_df['monthly_rf'], color = 'black')"
   ]
  },
  {
   "cell_type": "code",
   "execution_count": 96,
   "metadata": {},
   "outputs": [
    {
     "data": {
      "text/plain": [
       "<matplotlib.lines.Line2D at 0x16e327a8bb0>"
      ]
     },
     "execution_count": 96,
     "metadata": {},
     "output_type": "execute_result"
    },
    {
     "data": {
      "image/png": "[encoded data removed]",
      "text/plain": [
       "<Figure size 640x480 with 1 Axes>"
      ]
     },
     "metadata": {},
     "output_type": "display_data"
    }
   ],
   "source": [
    "plt.plot(sharpe_df['Date'], sharpe_df['r_bm_mean'], color = 'black')\n",
    "plt.axhline(0, color = 'red', linestyle = '--')"
   ]
  },
  {
   "cell_type": "code",
   "execution_count": 99,
   "metadata": {},
   "outputs": [
    {
     "data": {
      "text/plain": [
       "-0.035283675361615995"
      ]
     },
     "execution_count": 99,
     "metadata": {},
     "output_type": "execute_result"
    }
   ],
   "source": [
    "np.average(sharpe_df['sharpe_ratio'])"
   ]
  },
  {
   "cell_type": "code",
   "execution_count": 102,
   "metadata": {},
   "outputs": [
    {
     "data": {
      "text/plain": [
       "-0.170404846341756"
      ]
     },
     "execution_count": 102,
     "metadata": {},
     "output_type": "execute_result"
    }
   ],
   "source": [
    "std_ndq_m = np.std(sharpe_df['r_ndq_mean'])\n",
    "std_rf_m = np.std(sharpe_df['r_rf_mean'])\n",
    "cov_m = np.cov(sharpe_df['r_ndq_mean'], sharpe_df['r_rf_mean'])[0,1]\n",
    "\n",
    "std_bm_m = np.sqrt(w_ndq**2 * std_ndq_m + w_rf**2 * std_rf_m + 2*w_ndq*w_rf*cov_m)\n",
    "\n",
    "average_return = np.average(sharpe_df['r_bm_mean'])\n",
    "rf_return = np.average(sharpe_df['monthly_rf'])\n",
    "\n",
    "sharpe_total = (average_return-rf_return)/std_bm_m\n",
    "\n",
    "sharpe_total"
   ]
  },
  {
   "cell_type": "code",
   "execution_count": 106,
   "metadata": {},
   "outputs": [],
   "source": [
    "z = (103.9-104)/104*100"
   ]
  },
  {
   "cell_type": "code",
   "execution_count": 108,
   "metadata": {},
   "outputs": [
    {
     "data": {
      "text/plain": [
       "90.38461538461593"
      ]
     },
     "execution_count": 108,
     "metadata": {},
     "output_type": "execute_result"
    }
   ],
   "source": [
    "100*(1+z)"
   ]
  },
  {
   "cell_type": "code",
   "execution_count": 109,
   "metadata": {},
   "outputs": [],
   "source": [
    "z2 = (106-103.9)/103.9"
   ]
  },
  {
   "cell_type": "code",
   "execution_count": 110,
   "metadata": {},
   "outputs": [
    {
     "data": {
      "text/plain": [
       "92.2216323387873"
      ]
     },
     "execution_count": 110,
     "metadata": {},
     "output_type": "execute_result"
    }
   ],
   "source": [
    "90.3946*(1+z2)"
   ]
  }
 ],
 "metadata": {
  "kernelspec": {
   "display_name": "base",
   "language": "python",
   "name": "python3"
  },
  "language_info": {
   "codemirror_mode": {
    "name": "ipython",
    "version": 3
   },
   "file_extension": ".py",
   "mimetype": "text/x-python",
   "name": "python",
   "nbconvert_exporter": "python",
   "pygments_lexer": "ipython3",
   "version": "3.8.18"
  }
 },
 "nbformat": 4,
 "nbformat_minor": 2
}
