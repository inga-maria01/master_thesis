{
 "cells": [
  {
   "cell_type": "code",
   "execution_count": 1,
   "metadata": {},
   "outputs": [],
   "source": [
    "import pandas as pd"
   ]
  },
  {
   "cell_type": "code",
   "execution_count": 12,
   "metadata": {},
   "outputs": [],
   "source": [
    "# github paths\n",
    "goog_path = 'https://raw.githubusercontent.com/inga-maria01/master_thesis/main/data/market_cap/goog_market_cap_2015-2019.xlsx'\n",
    "googl_path = 'https://raw.githubusercontent.com/inga-maria01/master_thesis/main/data/market_cap/googl_market_cap_2015-2019.xlsx'\n",
    "\n",
    "# open files\n",
    "goog = pd.read_excel(goog_path).drop(columns=['Unnamed: 0'])\n",
    "    \n",
    "googl = pd.read_excel(googl_path).drop(columns=['Unnamed: 0'])\n"
   ]
  },
  {
   "cell_type": "code",
   "execution_count": 10,
   "metadata": {},
   "outputs": [
    {
     "data": {
      "text/plain": [
       "Index(['Date', 'Company Market Cap'], dtype='object')"
      ]
     },
     "execution_count": 10,
     "metadata": {},
     "output_type": "execute_result"
    }
   ],
   "source": [
    "goog.columns"
   ]
  },
  {
   "cell_type": "code",
   "execution_count": 9,
   "metadata": {},
   "outputs": [
    {
     "data": {
      "text/html": [
       "<div>\n",
       "<style scoped>\n",
       "    .dataframe tbody tr th:only-of-type {\n",
       "        vertical-align: middle;\n",
       "    }\n",
       "\n",
       "    .dataframe tbody tr th {\n",
       "        vertical-align: top;\n",
       "    }\n",
       "\n",
       "    .dataframe thead th {\n",
       "        text-align: right;\n",
       "    }\n",
       "</style>\n",
       "<table border=\"1\" class=\"dataframe\">\n",
       "  <thead>\n",
       "    <tr style=\"text-align: right;\">\n",
       "      <th></th>\n",
       "      <th>Date</th>\n",
       "      <th>Company Market Cap</th>\n",
       "    </tr>\n",
       "  </thead>\n",
       "  <tbody>\n",
       "    <tr>\n",
       "      <th>0</th>\n",
       "      <td>2015-01-02</td>\n",
       "      <td>3.576201e+11</td>\n",
       "    </tr>\n",
       "    <tr>\n",
       "      <th>1</th>\n",
       "      <td>2015-01-05</td>\n",
       "      <td>3.504869e+11</td>\n",
       "    </tr>\n",
       "    <tr>\n",
       "      <th>2</th>\n",
       "      <td>2015-01-06</td>\n",
       "      <td>3.420991e+11</td>\n",
       "    </tr>\n",
       "    <tr>\n",
       "      <th>3</th>\n",
       "      <td>2015-01-07</td>\n",
       "      <td>3.413021e+11</td>\n",
       "    </tr>\n",
       "    <tr>\n",
       "      <th>4</th>\n",
       "      <td>2015-01-08</td>\n",
       "      <td>3.424349e+11</td>\n",
       "    </tr>\n",
       "    <tr>\n",
       "      <th>...</th>\n",
       "      <td>...</td>\n",
       "      <td>...</td>\n",
       "    </tr>\n",
       "    <tr>\n",
       "      <th>1253</th>\n",
       "      <td>2019-12-24</td>\n",
       "      <td>9.269376e+11</td>\n",
       "    </tr>\n",
       "    <tr>\n",
       "      <th>1254</th>\n",
       "      <td>2019-12-26</td>\n",
       "      <td>9.389673e+11</td>\n",
       "    </tr>\n",
       "    <tr>\n",
       "      <th>1255</th>\n",
       "      <td>2019-12-27</td>\n",
       "      <td>9.333334e+11</td>\n",
       "    </tr>\n",
       "    <tr>\n",
       "      <th>1256</th>\n",
       "      <td>2019-12-30</td>\n",
       "      <td>9.227547e+11</td>\n",
       "    </tr>\n",
       "    <tr>\n",
       "      <th>1257</th>\n",
       "      <td>2019-12-31</td>\n",
       "      <td>9.229463e+11</td>\n",
       "    </tr>\n",
       "  </tbody>\n",
       "</table>\n",
       "<p>1258 rows × 2 columns</p>\n",
       "</div>"
      ],
      "text/plain": [
       "           Date  Company Market Cap\n",
       "0    2015-01-02        3.576201e+11\n",
       "1    2015-01-05        3.504869e+11\n",
       "2    2015-01-06        3.420991e+11\n",
       "3    2015-01-07        3.413021e+11\n",
       "4    2015-01-08        3.424349e+11\n",
       "...         ...                 ...\n",
       "1253 2019-12-24        9.269376e+11\n",
       "1254 2019-12-26        9.389673e+11\n",
       "1255 2019-12-27        9.333334e+11\n",
       "1256 2019-12-30        9.227547e+11\n",
       "1257 2019-12-31        9.229463e+11\n",
       "\n",
       "[1258 rows x 2 columns]"
      ]
     },
     "execution_count": 9,
     "metadata": {},
     "output_type": "execute_result"
    }
   ],
   "source": [
    "googl"
   ]
  },
  {
   "cell_type": "code",
   "execution_count": 14,
   "metadata": {},
   "outputs": [
    {
     "data": {
      "text/plain": [
       "True"
      ]
     },
     "execution_count": 14,
     "metadata": {},
     "output_type": "execute_result"
    }
   ],
   "source": [
    "import pandas as pd\n",
    "\n",
    "# # Sample data for demonstration\n",
    "# data_goog = {\n",
    "#     'Date': ['2021-01-01', '2021-01-02', '2021-01-03'],\n",
    "#     'Company Market Cap': [500, 600, 700]\n",
    "# }\n",
    "\n",
    "# data_googl = {\n",
    "#     'Date': ['2021-01-01', '2021-01-02', '2021-01-03'],\n",
    "#     'Company Market Cap': [500, 605, 700]\n",
    "# }\n",
    "\n",
    "# Merging dataframes on 'Date'\n",
    "merged_df = pd.merge(goog, googl, on='Date', suffixes=('_goog', '_googl'))\n",
    "\n",
    "# Checking for equality of 'Company Market Cap'\n",
    "merged_df['Market Cap Equal'] = merged_df['Company Market Cap_goog'] == merged_df['Company Market Cap_googl']\n",
    "\n",
    "# Resulting DataFrame\n",
    "merged_df\n",
    "\n",
    "all_equal = merged_df['Market Cap Equal'].all()\n",
    "all_equal\n",
    "\n",
    "\n"
   ]
  },
  {
   "cell_type": "markdown",
   "metadata": {},
   "source": [
    "The market cap values in goog and googl are equal"
   ]
  },
  {
   "cell_type": "markdown",
   "metadata": {},
   "source": []
  }
 ],
 "metadata": {
  "kernelspec": {
   "display_name": "base",
   "language": "python",
   "name": "python3"
  },
  "language_info": {
   "codemirror_mode": {
    "name": "ipython",
    "version": 3
   },
   "file_extension": ".py",
   "mimetype": "text/x-python",
   "name": "python",
   "nbconvert_exporter": "python",
   "pygments_lexer": "ipython3",
   "version": "3.11.5"
  }
 },
 "nbformat": 4,
 "nbformat_minor": 2
}
